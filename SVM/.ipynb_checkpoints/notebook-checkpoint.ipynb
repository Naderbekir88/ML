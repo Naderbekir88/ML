{
 "cells": [
  {
   "cell_type": "code",
   "execution_count": 1,
   "id": "a0a95d2b",
   "metadata": {},
   "outputs": [],
   "source": [
    "# import necesary library\n",
    "\n",
    "import numpy as np\n",
    "from matplotlib import pyplot as plt\n",
    "%matplotlib inline\n",
    "\n",
    "from sklearn import svm\n",
    "from sklearn.datasets import make_blobs\n",
    "from sklearn.model_selection import train_test_split\n"
   ]
  },
  {
   "cell_type": "code",
   "execution_count": 4,
   "id": "9a801c62",
   "metadata": {},
   "outputs": [
    {
     "data": {
      "text/plain": [
       "array([1])"
      ]
     },
     "execution_count": 4,
     "metadata": {},
     "output_type": "execute_result"
    }
   ],
   "source": [
    "# feature \n",
    "\n",
    "X = [\n",
    "    [-2,-1],\n",
    "    [4,-1],\n",
    "    [1, -1],\n",
    "    [2, -1],\n",
    "    [6, -1],\n",
    "]\n",
    "\n",
    "#labels\n",
    "\n",
    "Y = [0,1,0,1,1]\n",
    "\n",
    "# fit \n",
    "\n",
    "clf = svm.SVC(kernel='linear').fit(X,Y)\n",
    "\n",
    "#predict\n",
    "\n",
    "clf.predict([[2,4]]) #=> 0"
   ]
  },
  {
   "cell_type": "markdown",
   "id": "586ba1ed",
   "metadata": {},
   "source": [
    "### Linear Kernal"
   ]
  },
  {
   "cell_type": "code",
   "execution_count": null,
   "id": "97213623",
   "metadata": {},
   "outputs": [],
   "source": [
    "\n",
    "\n",
    "features, targets = make_blobs(n_samples=600, centers=2, n_features=2, random_state=42)\n",
    "\n",
    "# The function outputs targets 0 and 1 so we need to convert targets 0 to -1\n",
    "transformed_targets = [-1 if t == 0 else +1 for t in targets]\n",
    "        \n",
    "# Plot the dataset\n",
    "plt.figure(figsize=(8, 6))\n",
    "plt.scatter(features[:, 0], features[:, 1], c = transformed_targets)\n",
    "plt.title(\"Toy dataset\")\n",
    "plt.ylabel(\"Feature 2\")\n",
    "plt.xlabel(\"Feature 1\")\n",
    "plt.show()\n",
    "\n",
    "# Split data into training and test set\n",
    "features_train, features_test, labels_train, labels_test = train_test_split(features, \n",
    "                                                                              transformed_targets, \n",
    "                                                                              test_size = 0.3)"
   ]
  },
  {
   "cell_type": "code",
   "execution_count": null,
   "id": "2109d1f6",
   "metadata": {},
   "outputs": [],
   "source": []
  },
  {
   "cell_type": "code",
   "execution_count": null,
   "id": "3c6bc748",
   "metadata": {},
   "outputs": [],
   "source": []
  },
  {
   "cell_type": "code",
   "execution_count": null,
   "id": "0e74eb02",
   "metadata": {},
   "outputs": [],
   "source": []
  },
  {
   "cell_type": "code",
   "execution_count": null,
   "id": "def7dbed",
   "metadata": {},
   "outputs": [],
   "source": []
  }
 ],
 "metadata": {
  "kernelspec": {
   "display_name": "Python 3",
   "language": "python",
   "name": "python3"
  },
  "language_info": {
   "codemirror_mode": {
    "name": "ipython",
    "version": 3
   },
   "file_extension": ".py",
   "mimetype": "text/x-python",
   "name": "python",
   "nbconvert_exporter": "python",
   "pygments_lexer": "ipython3",
   "version": "3.8.8"
  }
 },
 "nbformat": 4,
 "nbformat_minor": 5
}
