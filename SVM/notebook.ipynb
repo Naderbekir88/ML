{
 "cells": [
  {
   "cell_type": "code",
   "execution_count": 1,
   "id": "a0a95d2b",
   "metadata": {},
   "outputs": [],
   "source": [
    "from sklearn import svm\n",
    "import numpy as np\n",
    "from matplotlib import pyplot as plt\n",
    "%matplotlib inline\n"
   ]
  },
  {
   "cell_type": "code",
   "execution_count": 4,
   "id": "9a801c62",
   "metadata": {},
   "outputs": [
    {
     "data": {
      "text/plain": [
       "array([1])"
      ]
     },
     "execution_count": 4,
     "metadata": {},
     "output_type": "execute_result"
    }
   ],
   "source": [
    "# feature \n",
    "\n",
    "X = [\n",
    "    [-2,-1],\n",
    "    [4,-1],\n",
    "    [1, -1],\n",
    "    [2, -1],\n",
    "    [6, -1],\n",
    "]\n",
    "\n",
    "#labels\n",
    "\n",
    "Y = [0,1,0,1,1]\n",
    "\n",
    "# fit \n",
    "\n",
    "clf = svm.SVC(kernel='linear').fit(X,Y)\n",
    "\n",
    "#predict\n",
    "\n",
    "clf.predict([[2,4]]) #=> 0"
   ]
  },
  {
   "cell_type": "code",
   "execution_count": null,
   "id": "4d4e2cf4",
   "metadata": {},
   "outputs": [],
   "source": []
  },
  {
   "cell_type": "code",
   "execution_count": null,
   "id": "97213623",
   "metadata": {},
   "outputs": [],
   "source": []
  }
 ],
 "metadata": {
  "kernelspec": {
   "display_name": "Python 3",
   "language": "python",
   "name": "python3"
  },
  "language_info": {
   "codemirror_mode": {
    "name": "ipython",
    "version": 3
   },
   "file_extension": ".py",
   "mimetype": "text/x-python",
   "name": "python",
   "nbconvert_exporter": "python",
   "pygments_lexer": "ipython3",
   "version": "3.8.8"
  }
 },
 "nbformat": 4,
 "nbformat_minor": 5
}
