{
 "cells": [
  {
   "cell_type": "markdown",
   "id": "be6d386a",
   "metadata": {},
   "source": [
    "\n",
    "\n",
    "\n",
    "\n",
    "\n",
    "\n"
   ]
  },
  {
   "cell_type": "code",
   "execution_count": null,
   "id": "71efbaa8",
   "metadata": {},
   "outputs": [],
   "source": []
  },
  {
   "cell_type": "code",
   "execution_count": 1,
   "id": "5c5f20df",
   "metadata": {},
   "outputs": [],
   "source": [
    "        # -- to ignore warning --# #\n",
    "import warnings\n",
    "warnings.filterwarnings('ignore')"
   ]
  },
  {
   "cell_type": "code",
   "execution_count": 11,
   "id": "159826f0",
   "metadata": {},
   "outputs": [
    {
     "name": "stdout",
     "output_type": "stream",
     "text": [
      "LinearSVC score 0.9666666666666667\n",
      "SVC score 0.9933333333333333\n"
     ]
    }
   ],
   "source": [
    "from sklearn.datasets import load_iris\n",
    "from sklearn.svm import LinearSVC, SVC\n",
    "\n",
    "X, y = load_iris(return_X_y=True)\n",
    "\n",
    "clf_1 = LinearSVC().fit(X, y)  # possible to state loss='hinge'\n",
    "clf_2 = SVC(kernel='linear').fit(X, y)\n",
    "\n",
    "score_1 = clf_1.score(X, y)\n",
    "score_2 = clf_2.score(X, y)\n",
    "\n",
    "print('LinearSVC score %s' % score_1)\n",
    "\n",
    "print('SVC score %s' % score_2)"
   ]
  },
  {
   "cell_type": "markdown",
   "id": "95c7eb5e",
   "metadata": {},
   "source": [
    "\n",
    "* **LinearSVC** : doesn't Support kernel trick \n",
    "* **SVC** : Support kernel trick"
   ]
  },
  {
   "cell_type": "code",
   "execution_count": 12,
   "id": "3af4a3ec",
   "metadata": {},
   "outputs": [
    {
     "name": "stdout",
     "output_type": "stream",
     "text": [
      "LinearSVC score 0.9799666110183639\n",
      "SVC score 1.0\n"
     ]
    }
   ],
   "source": [
    "from sklearn.datasets import load_digits\n",
    "from sklearn.svm import LinearSVC, SVC\n",
    "\n",
    "X, y = load_digits(return_X_y=True)\n",
    "\n",
    "clf_1 = LinearSVC().fit(X, y)  # possible to state loss='hinge'\n",
    "clf_2 = SVC(kernel='linear').fit(X, y)\n",
    "\n",
    "score_1 = clf_1.score(X, y)\n",
    "score_2 = clf_2.score(X, y)\n",
    "\n",
    "print('LinearSVC score %s' % score_1)\n",
    "\n",
    "print('SVC score %s' % score_2)"
   ]
  },
  {
   "cell_type": "code",
   "execution_count": 2,
   "id": "87ef7eee",
   "metadata": {},
   "outputs": [
    {
     "name": "stdout",
     "output_type": "stream",
     "text": [
      "hello cat \n"
     ]
    }
   ],
   "source": [
    "print(\"hello cat \")"
   ]
  },
  {
   "cell_type": "code",
   "execution_count": null,
   "id": "f6a95c13",
   "metadata": {},
   "outputs": [],
   "source": []
  }
 ],
 "metadata": {
  "kernelspec": {
   "display_name": "Python 3",
   "language": "python",
   "name": "python3"
  },
  "language_info": {
   "codemirror_mode": {
    "name": "ipython",
    "version": 3
   },
   "file_extension": ".py",
   "mimetype": "text/x-python",
   "name": "python",
   "nbconvert_exporter": "python",
   "pygments_lexer": "ipython3",
   "version": "3.8.8"
  }
 },
 "nbformat": 4,
 "nbformat_minor": 5
}
